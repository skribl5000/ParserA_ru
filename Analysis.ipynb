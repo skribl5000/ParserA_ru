{
 "cells": [
  {
   "cell_type": "code",
   "execution_count": 24,
   "metadata": {},
   "outputs": [],
   "source": [
    "import pandas as pd\n",
    "from scipy import stats\n",
    "import numpy as np\n",
    "import seaborn as sns\n",
    "import math\n",
    "import pylab"
   ]
  },
  {
   "cell_type": "code",
   "execution_count": 2,
   "metadata": {},
   "outputs": [
    {
     "data": {
      "text/html": [
       "<div>\n",
       "<style scoped>\n",
       "    .dataframe tbody tr th:only-of-type {\n",
       "        vertical-align: middle;\n",
       "    }\n",
       "\n",
       "    .dataframe tbody tr th {\n",
       "        vertical-align: top;\n",
       "    }\n",
       "\n",
       "    .dataframe thead th {\n",
       "        text-align: right;\n",
       "    }\n",
       "</style>\n",
       "<table border=\"1\" class=\"dataframe\">\n",
       "  <thead>\n",
       "    <tr style=\"text-align: right;\">\n",
       "      <th></th>\n",
       "      <th>Title</th>\n",
       "      <th>Cost:</th>\n",
       "      <th>Currency</th>\n",
       "      <th>Killometrage</th>\n",
       "      <th>Age</th>\n",
       "      <th>Location</th>\n",
       "      <th>Link</th>\n",
       "    </tr>\n",
       "  </thead>\n",
       "  <tbody>\n",
       "    <tr>\n",
       "      <th>0</th>\n",
       "      <td>BMW 1 серия  II (F20/F21) 116i</td>\n",
       "      <td>870000</td>\n",
       "      <td>RUB</td>\n",
       "      <td>99000</td>\n",
       "      <td>6</td>\n",
       "      <td>Москва﻿,</td>\n",
       "      <td>https://auto.ru/cars/used/sale/bmw/1er/1096643...</td>\n",
       "    </tr>\n",
       "    <tr>\n",
       "      <th>1</th>\n",
       "      <td>BMW 1 серия  I (E81/E82/E87/E88) Рестайлинг 116i</td>\n",
       "      <td>470000</td>\n",
       "      <td>RUB</td>\n",
       "      <td>146000</td>\n",
       "      <td>10</td>\n",
       "      <td>Москва﻿,</td>\n",
       "      <td>https://auto.ru/cars/used/sale/bmw/1er/1097628...</td>\n",
       "    </tr>\n",
       "    <tr>\n",
       "      <th>2</th>\n",
       "      <td>BMW 1 серия  I (E81/E82/E87/E88) Рестайлинг 135i</td>\n",
       "      <td>800000</td>\n",
       "      <td>RUB</td>\n",
       "      <td>114000</td>\n",
       "      <td>10</td>\n",
       "      <td>Москва﻿,</td>\n",
       "      <td>https://auto.ru/cars/used/sale/bmw/1er/1097749...</td>\n",
       "    </tr>\n",
       "    <tr>\n",
       "      <th>3</th>\n",
       "      <td>BMW 1 серия  II (F20/F21) 116i</td>\n",
       "      <td>600000</td>\n",
       "      <td>RUB</td>\n",
       "      <td>62000</td>\n",
       "      <td>8</td>\n",
       "      <td>Москва﻿,</td>\n",
       "      <td>https://auto.ru/cars/used/sale/bmw/1er/1097894...</td>\n",
       "    </tr>\n",
       "    <tr>\n",
       "      <th>4</th>\n",
       "      <td>BMW 1 серия  II (F20/F21) Рестайлинг 2 118i</td>\n",
       "      <td>1165000</td>\n",
       "      <td>RUB</td>\n",
       "      <td>49212</td>\n",
       "      <td>3</td>\n",
       "      <td>Москва﻿,</td>\n",
       "      <td>https://auto.ru/cars/used/sale/bmw/1er/1097890...</td>\n",
       "    </tr>\n",
       "  </tbody>\n",
       "</table>\n",
       "</div>"
      ],
      "text/plain": [
       "                                              Title    Cost: Currency  \\\n",
       "0                    BMW 1 серия  II (F20/F21) 116i   870000      RUB   \n",
       "1  BMW 1 серия  I (E81/E82/E87/E88) Рестайлинг 116i   470000      RUB   \n",
       "2  BMW 1 серия  I (E81/E82/E87/E88) Рестайлинг 135i   800000      RUB   \n",
       "3                    BMW 1 серия  II (F20/F21) 116i   600000      RUB   \n",
       "4       BMW 1 серия  II (F20/F21) Рестайлинг 2 118i  1165000      RUB   \n",
       "\n",
       "   Killometrage  Age   Location  \\\n",
       "0         99000    6  Москва﻿,    \n",
       "1        146000   10  Москва﻿,    \n",
       "2        114000   10  Москва﻿,    \n",
       "3         62000    8  Москва﻿,    \n",
       "4         49212    3  Москва﻿,    \n",
       "\n",
       "                                                Link  \n",
       "0  https://auto.ru/cars/used/sale/bmw/1er/1096643...  \n",
       "1  https://auto.ru/cars/used/sale/bmw/1er/1097628...  \n",
       "2  https://auto.ru/cars/used/sale/bmw/1er/1097749...  \n",
       "3  https://auto.ru/cars/used/sale/bmw/1er/1097894...  \n",
       "4  https://auto.ru/cars/used/sale/bmw/1er/1097890...  "
      ]
     },
     "execution_count": 2,
     "metadata": {},
     "output_type": "execute_result"
    }
   ],
   "source": [
    "df = pd.read_excel('Output.xlsx')\n",
    "df.head()"
   ]
  },
  {
   "cell_type": "code",
   "execution_count": 3,
   "metadata": {},
   "outputs": [
    {
     "data": {
      "text/html": [
       "<div>\n",
       "<style scoped>\n",
       "    .dataframe tbody tr th:only-of-type {\n",
       "        vertical-align: middle;\n",
       "    }\n",
       "\n",
       "    .dataframe tbody tr th {\n",
       "        vertical-align: top;\n",
       "    }\n",
       "\n",
       "    .dataframe thead th {\n",
       "        text-align: right;\n",
       "    }\n",
       "</style>\n",
       "<table border=\"1\" class=\"dataframe\">\n",
       "  <thead>\n",
       "    <tr style=\"text-align: right;\">\n",
       "      <th></th>\n",
       "      <th>Cost:</th>\n",
       "      <th>Killometrage</th>\n",
       "      <th>Age</th>\n",
       "    </tr>\n",
       "  </thead>\n",
       "  <tbody>\n",
       "    <tr>\n",
       "      <th>count</th>\n",
       "      <td>4.180000e+02</td>\n",
       "      <td>418.000000</td>\n",
       "      <td>418.00000</td>\n",
       "    </tr>\n",
       "    <tr>\n",
       "      <th>mean</th>\n",
       "      <td>6.460764e+05</td>\n",
       "      <td>128693.607656</td>\n",
       "      <td>9.12201</td>\n",
       "    </tr>\n",
       "    <tr>\n",
       "      <th>std</th>\n",
       "      <td>2.984609e+05</td>\n",
       "      <td>53008.152334</td>\n",
       "      <td>3.06476</td>\n",
       "    </tr>\n",
       "    <tr>\n",
       "      <th>min</th>\n",
       "      <td>2.700000e+05</td>\n",
       "      <td>1000.000000</td>\n",
       "      <td>1.00000</td>\n",
       "    </tr>\n",
       "    <tr>\n",
       "      <th>25%</th>\n",
       "      <td>4.500000e+05</td>\n",
       "      <td>95625.000000</td>\n",
       "      <td>8.00000</td>\n",
       "    </tr>\n",
       "    <tr>\n",
       "      <th>50%</th>\n",
       "      <td>5.550000e+05</td>\n",
       "      <td>130050.000000</td>\n",
       "      <td>9.00000</td>\n",
       "    </tr>\n",
       "    <tr>\n",
       "      <th>75%</th>\n",
       "      <td>7.000000e+05</td>\n",
       "      <td>165901.250000</td>\n",
       "      <td>12.00000</td>\n",
       "    </tr>\n",
       "    <tr>\n",
       "      <th>max</th>\n",
       "      <td>2.999999e+06</td>\n",
       "      <td>293000.000000</td>\n",
       "      <td>15.00000</td>\n",
       "    </tr>\n",
       "  </tbody>\n",
       "</table>\n",
       "</div>"
      ],
      "text/plain": [
       "              Cost:   Killometrage        Age\n",
       "count  4.180000e+02     418.000000  418.00000\n",
       "mean   6.460764e+05  128693.607656    9.12201\n",
       "std    2.984609e+05   53008.152334    3.06476\n",
       "min    2.700000e+05    1000.000000    1.00000\n",
       "25%    4.500000e+05   95625.000000    8.00000\n",
       "50%    5.550000e+05  130050.000000    9.00000\n",
       "75%    7.000000e+05  165901.250000   12.00000\n",
       "max    2.999999e+06  293000.000000   15.00000"
      ]
     },
     "execution_count": 3,
     "metadata": {},
     "output_type": "execute_result"
    }
   ],
   "source": [
    "df.describe()"
   ]
  },
  {
   "cell_type": "code",
   "execution_count": 34,
   "metadata": {},
   "outputs": [],
   "source": [
    "def qq_plot(df, x, y):\n",
    "    b1, b0, rv, p, stderr= stats.linregress(x=df[x], y=df[y])\n",
    "    y_pred = []\n",
    "    for index,row in df.iterrows():\n",
    "        y_pred.append(b0+ b1*row[x])\n",
    "\n",
    "    ostatki = df[y]- y_pred\n",
    "    stats.probplot(ostatki, dist=\"norm\", plot=pylab)"
   ]
  },
  {
   "cell_type": "markdown",
   "metadata": {},
   "source": [
    "<b>Диапазон цен на топ 5 наиболее популярных моделей</b>"
   ]
  },
  {
   "cell_type": "code",
   "execution_count": 31,
   "metadata": {},
   "outputs": [
    {
     "data": {
      "text/plain": [
       "Index(['BMW 1 серия  I (E81/E82/E87/E88) Рестайлинг 116i',\n",
       "       'BMW 1 серия  II (F20/F21) 116i',\n",
       "       'BMW 1 серия  I (E81/E82/E87/E88) Рестайлинг 118i',\n",
       "       'BMW 1 серия  II (F20/F21) 118i',\n",
       "       'BMW 1 серия  II (F20/F21) Рестайлинг 2 118i'],\n",
       "      dtype='object')"
      ]
     },
     "execution_count": 31,
     "metadata": {},
     "output_type": "execute_result"
    }
   ],
   "source": [
    "if len(df.Title.value_counts() > 4):\n",
    "    top_5 = df.Title.value_counts()[0:5].index\n",
    "else:\n",
    "    top_5 = list(set(df.Title))\n",
    "top_5"
   ]
  },
  {
   "cell_type": "code",
   "execution_count": 32,
   "metadata": {},
   "outputs": [
    {
     "data": {
      "image/png": "[encoded data removed]",
      "text/plain": [
       "<Figure size 432x288 with 1 Axes>"
      ]
     },
     "metadata": {
      "needs_background": "light"
     },
     "output_type": "display_data"
    }
   ],
   "source": [
    "df_bx = df[df.Title.isin(top_5)]\n",
    "ax = sns.boxplot(x=\"Cost:\", y=\"Title\", data=df_bx)\n",
    "for label in ax.get_xticklabels():\n",
    "        label.set_rotation(45)"
   ]
  },
  {
   "cell_type": "code",
   "execution_count": 36,
   "metadata": {},
   "outputs": [
    {
     "name": "stdout",
     "output_type": "stream",
     "text": [
      "Title: BMW 1 серия  I (E81/E82/E87/E88) Рестайлинг 116i\n",
      "Pirson Correlation Coefficient: -0.5254218385617382\n",
      "R squared value: 0.27606810843759727 - impact of km on cost\n",
      "P-value: 1.3660873033287948e-11 - REGRESSION IS SIGNIFICANT\n",
      "Each 10000 km decrease price on 8178.940573022527 RUR\n",
      "\n",
      "Title: BMW 1 серия  II (F20/F21) 116i\n",
      "Pirson Correlation Coefficient: -0.42011212300374334\n",
      "R squared value: 0.17649419589471238 - impact of km on cost\n",
      "P-value: 5.650636646634461e-05 - REGRESSION IS SIGNIFICANT\n",
      "Each 10000 km decrease price on 9677.896577811109 RUR\n",
      "\n",
      "Title: BMW 1 серия  I (E81/E82/E87/E88) Рестайлинг 118i\n",
      "Pirson Correlation Coefficient: -0.2611143425126096\n",
      "R squared value: 0.06818069986579241 - impact of km on cost\n",
      "Each 10000 km decrease price on 5008.422976779297 RUR\n",
      "\n",
      "Title: BMW 1 серия  II (F20/F21) 118i\n",
      "Pirson Correlation Coefficient: -0.5792365605379989\n",
      "R squared value: 0.3355149930638908 - impact of km on cost\n",
      "P-value: 0.0009930090303243118 - REGRESSION IS SIGNIFICANT\n",
      "Each 10000 km decrease price on 18975.447699048746 RUR\n",
      "\n",
      "Title: BMW 1 серия  II (F20/F21) Рестайлинг 2 118i\n",
      "Pirson Correlation Coefficient: -0.7246571291632911\n",
      "R squared value: 0.5251279548471827 - impact of km on cost\n",
      "P-value: 4.1906082331645484e-05 - REGRESSION IS SIGNIFICANT\n",
      "Each 10000 km decrease price on 70137.5738004675 RUR\n",
      "\n"
     ]
    },
    {
     "data": {
      "image/png": "[encoded data removed]",
      "text/plain": [
       "<Figure size 432x288 with 1 Axes>"
      ]
     },
     "metadata": {
      "needs_background": "light"
     },
     "output_type": "display_data"
    }
   ],
   "source": [
    "for index in range(len(top_5)):\n",
    "    title = top_5[index]\n",
    "    print(f'Title: {title}')\n",
    "    df_cars = df_bx[df_bx.Title==title]\n",
    "    r = np.corrcoef(x=df_cars['Killometrage'], y=df_cars['Cost:'])[0][1]\n",
    "    R2 = np.corrcoef(x=df_cars['Killometrage'], y=df_cars['Cost:'])[0][1]**2\n",
    "    print(f'Pirson Correlation Coefficient: {r}')\n",
    "    print(f'R squared value: {R2} - impact of km on cost')\n",
    "    sns.regplot(x=df_cars['Killometrage'], y=df_cars['Cost:'])\n",
    "    b1, b0, rv, p, stderr= stats.linregress(x=df_cars['Killometrage'], y=df_cars['Cost:'])\n",
    "    if p <= 0.05:\n",
    "        print(f'P-value: {p} - REGRESSION IS SIGNIFICANT')\n",
    "    if b1 < 0:\n",
    "        print(f'Each 10000 km decrease price on {math.fabs(b1*10000)} RUR')\n",
    "    if b1 > 0:\n",
    "        print(f'Each 10000 km increase price on {b1*10000} RUR')\n",
    "#     qq_plot(df_cars, x='Killometrage', y='Cost:')\n",
    "    print()"
   ]
  },
  {
   "cell_type": "code",
   "execution_count": null,
   "metadata": {},
   "outputs": [],
   "source": []
  },
  {
   "cell_type": "code",
   "execution_count": null,
   "metadata": {},
   "outputs": [],
   "source": []
  }
 ],
 "metadata": {
  "kernelspec": {
   "display_name": "Python 3",
   "language": "python",
   "name": "python3"
  },
  "language_info": {
   "codemirror_mode": {
    "name": "ipython",
    "version": 3
   },
   "file_extension": ".py",
   "mimetype": "text/x-python",
   "name": "python",
   "nbconvert_exporter": "python",
   "pygments_lexer": "ipython3",
   "version": "3.7.6"
  }
 },
 "nbformat": 4,
 "nbformat_minor": 4
}
